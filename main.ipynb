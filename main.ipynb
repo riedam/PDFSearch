{
 "cells": [
  {
   "cell_type": "code",
   "execution_count": null,
   "metadata": {},
   "outputs": [],
   "source": [
    "import os, logging\n",
    "from IPython.display import display\n",
    "\n",
    "from script.script import initialize, main\n",
    "from script.option import Option\n",
    "from script.widgets import my_widgets\n",
    "\n",
    "ini = initialize(logging.Logger(__name__)) # Initialisation du script. Voir script.py>initialize\n",
    "\n",
    "############ OPTIONS ############\n",
    "opt = Option(\n",
    "    pdf_folder = \"pdf/\", # Dossier contenant les pdf à analyser\n",
    "    data_folder = \"data/\", # Dossier contenant les données sauvegardées\n",
    "    result_file = \"result.html\", # Fichier de résultat\n",
    "\n",
    "    keyword_file = \"keywords.csv\", # Fichier contenant les mots clés\n",
    "    threshold = 7, # Seuil de détection des mots clés = score minimum à obtenir pour être considéré comme une page potentiel\n",
    "\n",
    "    watch_import = True, # Importer automatiquement les nouveaux pdf et les scans\n",
    "    force_scan = False, # Force la réanalyse des pdf même si save.csv est présent\n",
    "    clear_when_force_scan = True, # Efface les données sauvegardées. Ignoré si force_scan est désactivé\n",
    "\n",
    "    sort_data = 'Timestamp', # Manière de trier les items. Peut être 'Filename' (ordre alphabétique) ou 'Timestamp' (ordre chronologique de demande).\n",
    "\n",
    "    n_workers = int(os.cpu_count() // 2), # Nombre de threads à utiliser. Par défaut, la moitié des coeurs disponibles\n",
    "    check_keyword = True, # Vérifie que les mots clés sont correctement formatés\n",
    "\n",
    "    watcher_year_interval = [2014, 2024], # [min, max] Quand watch_import est activé, intervalle d'années proposées par le widget\n",
    "\n",
    "    request_timeout = 12, # Temps d'attente (en seconde) avant de considérer une requête comme échouée\n",
    ")\n",
    "########## END OPTIONS ##########\n",
    "\n",
    "process = main(opt, ini) # Lancement du script. Voir script.py>main\n",
    "\n",
    "if opt.watch_import: # Si watch_import est activé : affichage de widgets supplémentaires\n",
    "    dis, but = my_widgets(opt, ini, process) # Création des widgets. Voir widgets.py>my_widgets\n",
    "    display(*dis) # Affichage des widgets\n",
    "    for b in but:\n",
    "        b[0].on_click(b[1]) # Ajout de l'action de pression sur les boutons"
   ]
  }
 ],
 "metadata": {
  "kernelspec": {
   "display_name": "base",
   "language": "python",
   "name": "python3"
  },
  "language_info": {
   "codemirror_mode": {
    "name": "ipython",
    "version": 3
   },
   "file_extension": ".py",
   "mimetype": "text/x-python",
   "name": "python",
   "nbconvert_exporter": "python",
   "pygments_lexer": "ipython3",
   "version": "3.11.5"
  }
 },
 "nbformat": 4,
 "nbformat_minor": 2
}
