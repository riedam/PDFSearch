{
 "cells": [
  {
   "cell_type": "code",
   "execution_count": 1,
   "metadata": {},
   "outputs": [
    {
     "name": "stderr",
     "output_type": "stream",
     "text": [
      "\u001b[32m[INFO] Checking keywords\u001b[0m\n",
      "\u001b[32m[INFO] Loaded 6 sets from save.csv\u001b[0m\n",
      "\u001b[32m[INFO] Scanning pdf/ for pdf files\u001b[0m\n",
      "\u001b[32m[INFO] Skipping Strasbourg_2019.pdf as it has already been scanned\u001b[0m\n",
      "\u001b[32m[INFO] Skipping Université Toulouse - Jean Jaurès_2016.pdf as it has already been scanned\u001b[0m\n",
      "\u001b[32m[INFO] Skipping Université Toulouse - Jean Jaurès_2017.pdf as it has already been scanned\u001b[0m\n",
      "\u001b[32m[INFO] Skipping Université Toulouse - Jean Jaurès_2018.pdf as it has already been scanned\u001b[0m\n",
      "\u001b[32m[INFO] Skipping Université Toulouse - Jean Jaurès_2019.pdf as it has already been scanned\u001b[0m\n",
      "\u001b[32m[INFO] Skipping Université Toulouse - Jean Jaurès_2020.pdf as it has already been scanned\u001b[0m\n",
      "\u001b[32m[INFO] >> Watching pdf/ for new pdf and scans\u001b[0m\n",
      "\u001b[32m[INFO] >> 6 pdf files have been skipped\u001b[0m\n",
      "\u001b[32m[INFO] >> Adding 0 sets into a data queue that 2 workers will work. Watching enabled for new pdf...\u001b[0m\n",
      "\u001b[32m[INFO] [P1] Worker has started\u001b[0m\n",
      "\u001b[32m[INFO] [P2] Worker has started\u001b[0m\n"
     ]
    },
    {
     "data": {
      "application/vnd.jupyter.widget-view+json": {
       "model_id": "2e0a266c787c46bfb9ea48e6a6edfa9c",
       "version_major": 2,
       "version_minor": 0
      },
      "text/plain": [
       "AppLayout(children=(VBox(children=(Text(value='', description='Name', layout=Layout(width='auto'), placeholder…"
      ]
     },
     "metadata": {},
     "output_type": "display_data"
    },
    {
     "data": {
      "application/vnd.jupyter.widget-view+json": {
       "model_id": "495890c9b28f468fa46597b6430f11ff",
       "version_major": 2,
       "version_minor": 0
      },
      "text/plain": [
       "Output()"
      ]
     },
     "metadata": {},
     "output_type": "display_data"
    }
   ],
   "source": [
    "import os, logging\n",
    "from IPython.display import display\n",
    "\n",
    "from script.script import initialize, main\n",
    "from script.option import Option\n",
    "from script.widgets import my_widgets\n",
    "\n",
    "ini = initialize(logging.Logger(__name__)) # Initialisation du script. Voir script.py>initialize\n",
    "\n",
    "############ OPTIONS ############\n",
    "opt = Option(\n",
    "    pdf_folder = \"pdf/\", # Dossier contenant les pdf à analyser\n",
    "    data_folder = \"data/\", # Dossier contenant les données sauvegardées\n",
    "    result_file = \"result.html\", # Fichier de résultat\n",
    "\n",
    "    keyword_file = \"keywords.csv\", # Fichier contenant les mots clés\n",
    "    threshold = 7, # Seuil de détection des mots clés = score minimum à obtenir pour être considéré comme une page potentiel\n",
    "\n",
    "    watch_import = True, # Importer automatiquement les nouveaux pdf et les scans\n",
    "    force_scan = False, # Force la réanalyse des pdf même si save.csv est présent\n",
    "    clear_when_force_scan = True, # Efface les données sauvegardées. Ignoré si force_scan est désactivé\n",
    "\n",
    "    sort_data = 'Timestamp', # Manière de trier les items. Peut être 'Filename' (ordre alphabétique) ou 'Timestamp' (ordre chronologique de demande).\n",
    "\n",
    "    n_workers = int(os.cpu_count() // 2), # Nombre de threads à utiliser. Par défaut, la moitié des coeurs disponibles\n",
    "    check_keyword = True, # Vérifie que les mots clés sont correctement formatés\n",
    "\n",
    "    watcher_year_interval = [2014, 2024], # [min, max] Quand watch_import est activé, intervalle d'années proposées par le widget\n",
    ")\n",
    "########## END OPTIONS ##########\n",
    "\n",
    "process = main(opt, ini) # Lancement du script. Voir script.py>main\n",
    "\n",
    "if opt.watch_import: # Si watch_import est activé : affichage de widgets supplémentaires\n",
    "    dis, but = my_widgets(opt, ini, process) # Création des widgets. Voir widgets.py>my_widgets\n",
    "    display(*dis) # Affichage des widgets\n",
    "    for b in but:\n",
    "        b[0].on_click(b[1]) # Ajout de l'action de pression sur les boutons"
   ]
  }
 ],
 "metadata": {
  "kernelspec": {
   "display_name": "base",
   "language": "python",
   "name": "python3"
  },
  "language_info": {
   "codemirror_mode": {
    "name": "ipython",
    "version": 3
   },
   "file_extension": ".py",
   "mimetype": "text/x-python",
   "name": "python",
   "nbconvert_exporter": "python",
   "pygments_lexer": "ipython3",
   "version": "3.11.5"
  }
 },
 "nbformat": 4,
 "nbformat_minor": 2
}
