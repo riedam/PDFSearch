{
 "cells": [
  {
   "cell_type": "code",
   "execution_count": 1,
   "metadata": {},
   "outputs": [
    {
     "name": "stderr",
     "output_type": "stream",
     "text": [
      "\u001b[32m[INFO] Data folder data/ does exist. Creating it.\u001b[0m\n"
     ]
    },
    {
     "ename": "FileExistsError",
     "evalue": "[WinError 183] Impossible de créer un fichier déjà existant: 'data/'",
     "output_type": "error",
     "traceback": [
      "\u001b[1;31m---------------------------------------------------------------------------\u001b[0m",
      "\u001b[1;31mFileExistsError\u001b[0m                           Traceback (most recent call last)",
      "Cell \u001b[1;32mIn[1], line 34\u001b[0m\n\u001b[0;32m     11\u001b[0m opt \u001b[38;5;241m=\u001b[39m Option(\n\u001b[0;32m     12\u001b[0m     pdf_folder \u001b[38;5;241m=\u001b[39m \u001b[38;5;124m\"\u001b[39m\u001b[38;5;124mpdf/\u001b[39m\u001b[38;5;124m\"\u001b[39m, \u001b[38;5;66;03m# Dossier contenant les pdf à analyser\u001b[39;00m\n\u001b[0;32m     13\u001b[0m     data_folder \u001b[38;5;241m=\u001b[39m \u001b[38;5;124m\"\u001b[39m\u001b[38;5;124mdata/\u001b[39m\u001b[38;5;124m\"\u001b[39m, \u001b[38;5;66;03m# Dossier contenant les données sauvegardées\u001b[39;00m\n\u001b[1;32m   (...)\u001b[0m\n\u001b[0;32m     30\u001b[0m     request_timeout \u001b[38;5;241m=\u001b[39m \u001b[38;5;241m12\u001b[39m, \u001b[38;5;66;03m# Temps d'attente (en seconde) avant de considérer une requête comme échouée\u001b[39;00m\n\u001b[0;32m     31\u001b[0m )\n\u001b[0;32m     32\u001b[0m \u001b[38;5;66;03m########## END OPTIONS ##########\u001b[39;00m\n\u001b[1;32m---> 34\u001b[0m process \u001b[38;5;241m=\u001b[39m main(opt, ini) \u001b[38;5;66;03m# Lancement du script. Voir script.py>main\u001b[39;00m\n\u001b[0;32m     36\u001b[0m \u001b[38;5;28;01mif\u001b[39;00m opt\u001b[38;5;241m.\u001b[39mwatch_import: \u001b[38;5;66;03m# Si watch_import est activé : affichage de widgets supplémentaires\u001b[39;00m\n\u001b[0;32m     37\u001b[0m     dis, but \u001b[38;5;241m=\u001b[39m my_widgets(opt, ini, process) \u001b[38;5;66;03m# Création des widgets. Voir widgets.py>my_widgets\u001b[39;00m\n",
      "File \u001b[1;32mc:\\Users\\riess\\Documents\\Travail\\Projet Transdisciplinaire\\PDFSearch\\script\\script.py:58\u001b[0m, in \u001b[0;36mmain\u001b[1;34m(opt, ini)\u001b[0m\n\u001b[0;32m     56\u001b[0m \u001b[38;5;28;01mif\u001b[39;00m os\u001b[38;5;241m.\u001b[39mpath\u001b[38;5;241m.\u001b[39misdir(opt\u001b[38;5;241m.\u001b[39mdata_folder):\n\u001b[0;32m     57\u001b[0m     logger\u001b[38;5;241m.\u001b[39minfo(\u001b[38;5;124mf\u001b[39m\u001b[38;5;124m\"\u001b[39m\u001b[38;5;124mData folder \u001b[39m\u001b[38;5;132;01m{\u001b[39;00mopt\u001b[38;5;241m.\u001b[39mdata_folder\u001b[38;5;132;01m}\u001b[39;00m\u001b[38;5;124m does exist. Creating it.\u001b[39m\u001b[38;5;124m\"\u001b[39m)\n\u001b[1;32m---> 58\u001b[0m     os\u001b[38;5;241m.\u001b[39mmakedirs(opt\u001b[38;5;241m.\u001b[39mdata_folder)\n\u001b[0;32m     60\u001b[0m \u001b[38;5;28;01mif\u001b[39;00m \u001b[38;5;129;01mnot\u001b[39;00m os\u001b[38;5;241m.\u001b[39mpath\u001b[38;5;241m.\u001b[39misdir(opt\u001b[38;5;241m.\u001b[39mpdf_folder):\n\u001b[0;32m     61\u001b[0m     logger\u001b[38;5;241m.\u001b[39minfo(\u001b[38;5;124mf\u001b[39m\u001b[38;5;124m\"\u001b[39m\u001b[38;5;124mPdf folder \u001b[39m\u001b[38;5;132;01m{\u001b[39;00mopt\u001b[38;5;241m.\u001b[39mpdf_folder\u001b[38;5;132;01m}\u001b[39;00m\u001b[38;5;124m does not exist. Creating it.\u001b[39m\u001b[38;5;124m\"\u001b[39m)\n",
      "File \u001b[1;32m<frozen os>:225\u001b[0m, in \u001b[0;36mmakedirs\u001b[1;34m(name, mode, exist_ok)\u001b[0m\n",
      "\u001b[1;31mFileExistsError\u001b[0m: [WinError 183] Impossible de créer un fichier déjà existant: 'data/'"
     ]
    }
   ],
   "source": [
    "import os, logging\n",
    "from IPython.display import display\n",
    "\n",
    "from script.script import initialize, main\n",
    "from script.option import Option\n",
    "from script.widgets import my_widgets\n",
    "\n",
    "ini = initialize(logging.Logger(__name__)) # Initialisation du script. Voir script.py>initialize\n",
    "\n",
    "############ OPTIONS ############\n",
    "opt = Option(\n",
    "    pdf_folder = \"pdf/\", # Dossier contenant les pdf à analyser\n",
    "    data_folder = \"data/\", # Dossier contenant les données sauvegardées\n",
    "    result_file = \"result.html\", # Fichier de résultat\n",
    "\n",
    "    keyword_file = \"keywords.csv\", # Fichier contenant les mots clés\n",
    "    threshold = 7, # Seuil de détection des mots clés = score minimum à obtenir pour être considéré comme une page potentiel\n",
    "\n",
    "    watch_import = True, # Importer automatiquement les nouveaux pdf et les scans\n",
    "    force_scan = False, # Force la réanalyse des pdf même si save.csv est présent\n",
    "    clear_when_force_scan = True, # Efface les données sauvegardées. Ignoré si force_scan est désactivé\n",
    "\n",
    "    sort_data = 'Timestamp', # Manière de trier les items. Peut être 'Filename' (ordre alphabétique) ou 'Timestamp' (ordre chronologique de demande).\n",
    "\n",
    "    n_workers = int(os.cpu_count() // 2), # Nombre de threads à utiliser. Par défaut, la moitié des coeurs disponibles\n",
    "    check_keyword = True, # Vérifie que les mots clés sont correctement formatés\n",
    "\n",
    "    watcher_year_interval = [2004, 2024], # [min, max] Quand watch_import est activé, intervalle d'années proposées par le widget\n",
    "\n",
    "    request_timeout = 12, # Temps d'attente (en seconde) avant de considérer une requête comme échouée\n",
    ")\n",
    "########## END OPTIONS ##########\n",
    "\n",
    "process = main(opt, ini) # Lancement du script. Voir script.py>main\n",
    "\n",
    "if opt.watch_import: # Si watch_import est activé : affichage de widgets supplémentaires\n",
    "    dis, but = my_widgets(opt, ini, process) # Création des widgets. Voir widgets.py>my_widgets\n",
    "    display(*dis) # Affichage des widgets\n",
    "    for b in but:\n",
    "        b[0].on_click(b[1]) # Ajout de l'action de pression sur les boutons"
   ]
  }
 ],
 "metadata": {
  "kernelspec": {
   "display_name": "base",
   "language": "python",
   "name": "python3"
  },
  "language_info": {
   "codemirror_mode": {
    "name": "ipython",
    "version": 3
   },
   "file_extension": ".py",
   "mimetype": "text/x-python",
   "name": "python",
   "nbconvert_exporter": "python",
   "pygments_lexer": "ipython3",
   "version": "3.11.5"
  }
 },
 "nbformat": 4,
 "nbformat_minor": 2
}
